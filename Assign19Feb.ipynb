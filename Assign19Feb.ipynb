{
 "cells": [
  {
   "cell_type": "markdown",
   "id": "8a489e71-539b-47c5-836a-158baaa016dc",
   "metadata": {},
   "source": [
    "# Q1. What is Flask Framework? What are the advantages of Flask Framework?"
   ]
  },
  {
   "cell_type": "markdown",
   "id": "e45f3425-b60c-4275-90bf-cfc3fd3976f8",
   "metadata": {},
   "source": [
    "### Ans. Flask is a web application framework written in Python.\n",
    "### Advantages:\n",
    "### It is a lightweight framework that offers hassle-free development.\n",
    "### Provide flexibility to the developer to experiment with their modules or architecture.\n",
    "### It is suitable for small projects.\n",
    "### Easily scalable for the applications.\n",
    "### Support for secure cookies."
   ]
  },
  {
   "cell_type": "code",
   "execution_count": null,
   "id": "e72cfd01-336d-4e08-b8d2-e43ebec0f374",
   "metadata": {},
   "outputs": [],
   "source": []
  },
  {
   "cell_type": "markdown",
   "id": "c257cacf-39f3-4e27-bf24-8270a7725579",
   "metadata": {},
   "source": [
    "# Q2. Create a simple Flask application to display ‘Hello World!!’. Attach the screenshot of the output in Jupyter Notebook."
   ]
  },
  {
   "cell_type": "raw",
   "id": "c08ef046-2737-49a9-968f-86d8e582e6ea",
   "metadata": {},
   "source": [
    "from flask import Flask\n",
    "\n",
    "app = Flask(__name__)\n",
    "\n",
    "@app.route(\"/\") \n",
    "def hello_world():\n",
    "    return \"Hello, World!\"\n",
    "\n",
    "if __name__==\"__main__\":\n",
    "    app.run(host=\"0.0.0.0\")"
   ]
  },
  {
   "cell_type": "markdown",
   "id": "707dc2ed-270e-4e67-8237-061683280be9",
   "metadata": {},
   "source": [
    "![](SS.png)"
   ]
  },
  {
   "cell_type": "code",
   "execution_count": null,
   "id": "8d5615da-54f9-4831-832b-2c54ca0885e0",
   "metadata": {},
   "outputs": [],
   "source": []
  },
  {
   "cell_type": "markdown",
   "id": "d2093539-3897-4b40-8534-5a53f5a205e4",
   "metadata": {},
   "source": [
    "# Q3. What is App routing in Flask? Why do we use app routes?"
   ]
  },
  {
   "cell_type": "markdown",
   "id": "e8c9d507-e275-4b3e-9add-f0537db6a96b",
   "metadata": {},
   "source": [
    "### Ans. App routing is the technique used to map the specific URL with the associated function intended to perform some task.\n",
    "### It is used to help users remember application URLs. It is helpful to access the desired page directly without navigating from the home page."
   ]
  },
  {
   "cell_type": "code",
   "execution_count": null,
   "id": "02e7c57e-8790-4668-b620-64745bc8411d",
   "metadata": {},
   "outputs": [],
   "source": []
  },
  {
   "cell_type": "markdown",
   "id": "9f8b898c-46a7-48fa-a461-602c86cc5217",
   "metadata": {},
   "source": [
    "# Q4. Create a “/welcome” route to display the welcome message “Welcome to ABC Corporation” and a “/” route to show the following details:\n",
    "# Company Name: ABC Corporation\n",
    "# Location: India\n",
    "# Contact Detail: 999-999-9999\n",
    "# Attach the screenshot of the output in Jupyter Notebook."
   ]
  },
  {
   "cell_type": "markdown",
   "id": "b7dc9594-869c-487d-b952-5535b3379972",
   "metadata": {},
   "source": [
    "### Ans.\n",
    "from flask import Flask\n",
    "\n",
    "app = Flask(__name__)\n",
    "\n",
    "@app.route(\"/welcome\") \n",
    "def wel():\n",
    "    return \"Welcome to ABC Corporation\"\n",
    "\n",
    "@app.route(\"/\")\n",
    "def details():\n",
    "    return \"Company Name: ABC Corporation, Location: India, Contact Details: 999-999-9999\"\n",
    "\n",
    "if __name__==\"__main__\":\n",
    "    app.run(host=\"0.0.0.0\")"
   ]
  },
  {
   "cell_type": "markdown",
   "id": "3eed4b02-767c-4f77-9681-8efbf8e6a820",
   "metadata": {},
   "source": [
    "![](ABC.png)"
   ]
  },
  {
   "cell_type": "markdown",
   "id": "3f3f71c6-aa42-42cb-b0bd-e5c10d51f026",
   "metadata": {},
   "source": [
    "![](Details.png)"
   ]
  },
  {
   "cell_type": "code",
   "execution_count": null,
   "id": "afcf0ccc-a504-46a8-9c04-c6cbd0c5858a",
   "metadata": {},
   "outputs": [],
   "source": []
  },
  {
   "cell_type": "markdown",
   "id": "1ab96eac-89e1-4bc9-98fd-37b843178bc2",
   "metadata": {},
   "source": [
    "# Q5. What function is used in Flask for URL Building? Write a Python code to demonstrate the working of the url_for() function."
   ]
  },
  {
   "cell_type": "markdown",
   "id": "57df47e1-5756-48a4-b528-6521feed3a22",
   "metadata": {},
   "source": [
    "# Ans. The url_for() function is used to build a URL to the specific function dynamically."
   ]
  },
  {
   "cell_type": "raw",
   "id": "0afd312c-aa55-493c-8c7e-6ef6c980ae9d",
   "metadata": {},
   "source": [
    "from flask import Flask, request, url_for\n",
    "\n",
    "app = Flask(__name__)\n",
    "\n",
    "@app.route('/pass/<int:score>') \n",
    "def pas(score):\n",
    "    return 'pass'\n",
    "\n",
    "@app.route('/fail/<int:score>')\n",
    "def fail(score):\n",
    "    return 'fail'\n",
    "\n",
    "\n",
    "@app.route('/results/<int:marks>')\n",
    "def results(marks):\n",
    "    result = \"\"\n",
    "    if marks>50:\n",
    "        result='pass'\n",
    "    else:\n",
    "        result='fail'\n",
    "    return redirect(url_for(result, score=marks))\n",
    "\n",
    "if __name__==\"__main__\":\n",
    "    app.run(host=\"0.0.0.0\")"
   ]
  },
  {
   "cell_type": "code",
   "execution_count": null,
   "id": "c7ad2bb8-eaeb-421f-b984-572cb3535d7a",
   "metadata": {},
   "outputs": [],
   "source": []
  }
 ],
 "metadata": {
  "kernelspec": {
   "display_name": "Python 3 (ipykernel)",
   "language": "python",
   "name": "python3"
  },
  "language_info": {
   "codemirror_mode": {
    "name": "ipython",
    "version": 3
   },
   "file_extension": ".py",
   "mimetype": "text/x-python",
   "name": "python",
   "nbconvert_exporter": "python",
   "pygments_lexer": "ipython3",
   "version": "3.10.8"
  }
 },
 "nbformat": 4,
 "nbformat_minor": 5
}
